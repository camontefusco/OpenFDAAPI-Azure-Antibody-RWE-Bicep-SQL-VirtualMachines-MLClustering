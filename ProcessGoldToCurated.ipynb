{
  "cells": [
    {
      "cell_type": "code",
      "source": [
        "from pyspark.sql import SparkSession\n",
        "from pyspark.sql.types import StructType, StructField, StringType\n",
        "from pyspark.sql.functions import current_timestamp\n",
        "from datetime import datetime\n",
        "\n",
        "spark = SparkSession.builder.getOrCreate()\n",
        "\n",
        "# Paths\n",
        "gold_processing_base = \"abfss://rwedatalakestorage@datalakerwe.dfs.core.windows.net/gold/processing/\"\n",
        "gold_curated_rwe    = \"abfss://rwedatalakestorage@datalakerwe.dfs.core.windows.net/gold/curated/rwe/\"\n",
        "gold_curated_top    = \"abfss://rwedatalakestorage@datalakerwe.dfs.core.windows.net/gold/curated/\"\n"
      ],
      "outputs": [
        {
          "output_type": "display_data",
          "data": {
            "application/vnd.livy.statement-meta+json": {
              "spark_pool": "openfda",
              "statement_id": 2,
              "statement_ids": [
                2
              ],
              "state": "finished",
              "livy_statement_state": "available",
              "spark_jobs": null,
              "session_id": "3",
              "normalized_state": "finished",
              "queued_time": "2025-08-28T11:41:22.2173118Z",
              "session_start_time": "2025-08-28T11:41:22.2188701Z",
              "execution_start_time": "2025-08-28T11:42:28.2154835Z",
              "execution_finish_time": "2025-08-28T11:42:28.4951646Z",
              "parent_msg_id": "93a9ef35-2871-41c2-92df-5fcf63fef371"
            },
            "text/plain": "StatementMeta(openfda, 3, 2, Finished, Available, Finished)"
          },
          "metadata": {}
        }
      ],
      "execution_count": 26,
      "metadata": {}
    },
    {
      "cell_type": "code",
      "source": [
        "# Define schema\n",
        "schema = StructType([\n",
        "    StructField(\"safetyreportid\", StringType(), True),\n",
        "    StructField(\"receivedate\", StringType(), True),\n",
        "    StructField(\"serious\", StringType(), True),\n",
        "    StructField(\"medicinalproduct\", StringType(), True),\n",
        "    StructField(\"drugcharacterization\", StringType(), True),\n",
        "    StructField(\"reactionmeddrapt\", StringType(), True),\n",
        "    StructField(\"reactionoutcome\", StringType(), True)\n",
        "])"
      ],
      "outputs": [
        {
          "output_type": "display_data",
          "data": {
            "application/vnd.livy.statement-meta+json": {
              "spark_pool": "openfda",
              "statement_id": 3,
              "statement_ids": [
                3
              ],
              "state": "finished",
              "livy_statement_state": "available",
              "spark_jobs": null,
              "session_id": "3",
              "normalized_state": "finished",
              "queued_time": "2025-08-28T11:43:30.891902Z",
              "session_start_time": null,
              "execution_start_time": "2025-08-28T11:43:30.8936902Z",
              "execution_finish_time": "2025-08-28T11:43:31.1790144Z",
              "parent_msg_id": "4f39e348-81fd-4d2f-9f04-5447c16cd8d0"
            },
            "text/plain": "StatementMeta(openfda, 3, 3, Finished, Available, Finished)"
          },
          "metadata": {}
        }
      ],
      "execution_count": 27,
      "metadata": {}
    },
    {
      "cell_type": "code",
      "source": [
        "# Read all parquet files recursively\n",
        "df = spark.read.schema(schema).option(\"recursiveFileLookup\", \"true\").parquet(gold_processing_base)\n",
        "print(f\"✅ Read {df.count()} rows from gold/processing\")\n"
      ],
      "outputs": [
        {
          "output_type": "display_data",
          "data": {
            "application/vnd.livy.statement-meta+json": {
              "spark_pool": "openfda",
              "statement_id": 4,
              "statement_ids": [
                4
              ],
              "state": "finished",
              "livy_statement_state": "available",
              "spark_jobs": null,
              "session_id": "3",
              "normalized_state": "finished",
              "queued_time": "2025-08-28T11:43:40.6800577Z",
              "session_start_time": null,
              "execution_start_time": "2025-08-28T11:43:40.6817013Z",
              "execution_finish_time": "2025-08-28T11:43:48.1554107Z",
              "parent_msg_id": "c42e40d2-44ff-4784-8a32-23afe6618208"
            },
            "text/plain": "StatementMeta(openfda, 3, 4, Finished, Available, Finished)"
          },
          "metadata": {}
        },
        {
          "output_type": "stream",
          "name": "stdout",
          "text": [
            "✅ Read 224 rows from gold/processing\n"
          ]
        }
      ],
      "execution_count": 28,
      "metadata": {}
    },
    {
      "cell_type": "code",
      "source": [
        "# Transform for OMOP-like table\n",
        "# Add metadata columns\n",
        "df_curated = df.withColumn(\"load_timestamp\", current_timestamp())\n",
        "\n",
        "# RWE-specific curated dataset\n",
        "rwe_df = df_curated.withColumnRenamed(\"medicinalproduct\", \"drug_name\") \\\n",
        "                   .withColumnRenamed(\"reactionmeddrapt\", \"reaction\") \\\n",
        "                   .withColumnRenamed(\"reactionoutcome\", \"outcome\")\n",
        "\n",
        "timestamp = datetime.utcnow().strftime(\"%Y-%m-%d-%H-%M-%S\")\n",
        "rwe_output_path = f\"{gold_curated_rwe}{timestamp}/\"\n",
        "rwe_df.write.mode(\"overwrite\").parquet(rwe_output_path)\n",
        "print(f\"✅ Wrote RWE curated Gold data to {rwe_output_path}\")"
      ],
      "outputs": [
        {
          "output_type": "display_data",
          "data": {
            "application/vnd.livy.statement-meta+json": {
              "spark_pool": "openfda",
              "statement_id": 5,
              "statement_ids": [
                5
              ],
              "state": "finished",
              "livy_statement_state": "available",
              "spark_jobs": null,
              "session_id": "3",
              "normalized_state": "finished",
              "queued_time": "2025-08-28T11:44:06.8473132Z",
              "session_start_time": null,
              "execution_start_time": "2025-08-28T11:44:06.8491611Z",
              "execution_finish_time": "2025-08-28T11:44:09.7948161Z",
              "parent_msg_id": "f17f9ffc-94da-4341-bbe9-4f393995e64b"
            },
            "text/plain": "StatementMeta(openfda, 3, 5, Finished, Available, Finished)"
          },
          "metadata": {}
        },
        {
          "output_type": "stream",
          "name": "stdout",
          "text": [
            "✅ Wrote RWE curated Gold data to abfss://rwedatalakestorage@datalakerwe.dfs.core.windows.net/gold/curated/rwe/2025-08-28-11-44-06/\n"
          ]
        }
      ],
      "execution_count": 29,
      "metadata": {}
    },
    {
      "cell_type": "code",
      "source": [
        "# Top-level curated dataset (could aggregate or combine multiple sources)\n",
        "top_output_path = f\"{gold_curated_top}{timestamp}/\"\n",
        "df_curated.write.mode(\"overwrite\").parquet(top_output_path)\n",
        "print(f\"✅ Wrote top-level curated Gold data to {top_output_path}\")"
      ],
      "outputs": [
        {
          "output_type": "display_data",
          "data": {
            "application/vnd.livy.statement-meta+json": {
              "spark_pool": "openfda",
              "statement_id": 6,
              "statement_ids": [
                6
              ],
              "state": "finished",
              "livy_statement_state": "available",
              "spark_jobs": null,
              "session_id": "3",
              "normalized_state": "finished",
              "queued_time": "2025-08-28T11:45:00.9265096Z",
              "session_start_time": null,
              "execution_start_time": "2025-08-28T11:45:00.9283338Z",
              "execution_finish_time": "2025-08-28T11:45:02.1619363Z",
              "parent_msg_id": "7fec3f2b-2308-4210-808b-2779cea615d9"
            },
            "text/plain": "StatementMeta(openfda, 3, 6, Finished, Available, Finished)"
          },
          "metadata": {}
        },
        {
          "output_type": "stream",
          "name": "stdout",
          "text": [
            "✅ Wrote top-level curated Gold data to abfss://rwedatalakestorage@datalakerwe.dfs.core.windows.net/gold/curated/2025-08-28-11-44-06/\n"
          ]
        }
      ],
      "execution_count": 30,
      "metadata": {}
    },
    {
      "cell_type": "markdown",
      "source": [
        "# Release Spark pool"
      ],
      "metadata": {
        "nteract": {
          "transient": {
            "deleting": false
          }
        }
      }
    },
    {
      "cell_type": "code",
      "source": [
        "mssparkutils.session.stop()"
      ],
      "outputs": [],
      "execution_count": null,
      "metadata": {}
    }
  ],
  "metadata": {
    "language_info": {
      "name": "python"
    },
    "kernelspec": {
      "name": "synapse_pyspark",
      "language": "Python",
      "display_name": "Synapse PySpark"
    },
    "kernel_info": {
      "name": "synapse_pyspark"
    },
    "save_output": true,
    "synapse_widget": {
      "version": "0.1",
      "state": {}
    }
  },
  "nbformat": 4,
  "nbformat_minor": 2
}