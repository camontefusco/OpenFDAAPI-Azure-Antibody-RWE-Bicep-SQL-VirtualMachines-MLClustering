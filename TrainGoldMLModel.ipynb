{
  "cells": [
    {
      "cell_type": "markdown",
      "source": [
        "✅ Notebook Highlights\n",
        "\n",
        "1. Loads curated RWE Gold data from gold/curated/rwe/.\n",
        "\n",
        "2. Aggregates per (drug_name, reaction): ae_count, serious_count, serious_ratio\n",
        "\n",
        "3. Saves ML-ready Parquet dataset to gold/ml_ready/.\n",
        "\n",
        "4. Performs categorical encoding (drug_name + reaction).\n",
        "\n",
        "5. Trains a RandomForest classifier to predict serious AE.\n",
        "\n",
        "6. Evaluates with AUC.\n",
        "\n",
        "7. Saves trained model to gold/models/."
      ],
      "metadata": {
        "nteract": {
          "transient": {
            "deleting": false
          }
        }
      }
    },
    {
      "cell_type": "code",
      "source": [
        "# -------------------------------\n",
        "# Synapse ML Notebook: Train AE Seriousness Model\n",
        "# -------------------------------\n",
        "\n",
        "# Imports\n",
        "from pyspark.sql import SparkSession\n",
        "from pyspark.sql.functions import col, when, count as _count, sum as _sum\n",
        "from pyspark.ml.feature import StringIndexer, OneHotEncoder, VectorAssembler\n",
        "from pyspark.ml.classification import RandomForestClassifier\n",
        "from pyspark.ml import Pipeline\n",
        "from pyspark.ml.evaluation import BinaryClassificationEvaluator\n",
        "from datetime import datetime\n",
        "\n",
        "spark = SparkSession.builder.getOrCreate()"
      ],
      "outputs": [
        {
          "output_type": "display_data",
          "data": {
            "application/vnd.livy.statement-meta+json": {
              "spark_pool": "openfda",
              "statement_id": 29,
              "statement_ids": [
                29
              ],
              "state": "finished",
              "livy_statement_state": "available",
              "spark_jobs": null,
              "session_id": "3",
              "normalized_state": "finished",
              "queued_time": "2025-08-28T12:12:01.2205235Z",
              "session_start_time": null,
              "execution_start_time": "2025-08-28T12:12:01.2222496Z",
              "execution_finish_time": "2025-08-28T12:12:01.4752839Z",
              "parent_msg_id": "9850f00f-5b26-4022-9f8a-f45c9b8969f7"
            },
            "text/plain": "StatementMeta(openfda, 3, 29, Finished, Available, Finished)"
          },
          "metadata": {}
        }
      ],
      "execution_count": 53,
      "metadata": {}
    },
    {
      "cell_type": "code",
      "source": [
        "# -------------------------------\n",
        "# Paths\n",
        "# -------------------------------\n",
        "gold_curated_rwe = \"abfss://rwedatalakestorage@datalakerwe.dfs.core.windows.net/gold/curated/rwe/\"\n",
        "gold_ml_ready_base = \"abfss://rwedatalakestorage@datalakerwe.dfs.core.windows.net/gold/ml_ready/\"\n",
        "gold_models_base = \"abfss://rwedatalakestorage@datalakerwe.dfs.core.windows.net/gold/models/\"\n"
      ],
      "outputs": [
        {
          "output_type": "display_data",
          "data": {
            "application/vnd.livy.statement-meta+json": {
              "spark_pool": "openfda",
              "statement_id": 30,
              "statement_ids": [
                30
              ],
              "state": "finished",
              "livy_statement_state": "available",
              "spark_jobs": null,
              "session_id": "3",
              "normalized_state": "finished",
              "queued_time": "2025-08-28T12:12:11.2526313Z",
              "session_start_time": null,
              "execution_start_time": "2025-08-28T12:12:11.2543978Z",
              "execution_finish_time": "2025-08-28T12:12:11.5082139Z",
              "parent_msg_id": "ef1261bf-c3cd-431a-9117-5606a4819130"
            },
            "text/plain": "StatementMeta(openfda, 3, 30, Finished, Available, Finished)"
          },
          "metadata": {}
        }
      ],
      "execution_count": 54,
      "metadata": {}
    },
    {
      "cell_type": "code",
      "source": [
        "# -------------------------------\n",
        "# Load curated RWE dataset\n",
        "# -------------------------------\n",
        "df_curated = spark.read.option(\"recursiveFileLookup\", \"true\").parquet(gold_curated_rwe)\n"
      ],
      "outputs": [
        {
          "output_type": "display_data",
          "data": {
            "application/vnd.livy.statement-meta+json": {
              "spark_pool": "openfda",
              "statement_id": 31,
              "statement_ids": [
                31
              ],
              "state": "finished",
              "livy_statement_state": "available",
              "spark_jobs": null,
              "session_id": "3",
              "normalized_state": "finished",
              "queued_time": "2025-08-28T12:12:20.1350669Z",
              "session_start_time": null,
              "execution_start_time": "2025-08-28T12:12:20.1367483Z",
              "execution_finish_time": "2025-08-28T12:12:20.7930806Z",
              "parent_msg_id": "e9ce8267-3b28-469e-bb00-cb6af44eaf2d"
            },
            "text/plain": "StatementMeta(openfda, 3, 31, Finished, Available, Finished)"
          },
          "metadata": {}
        }
      ],
      "execution_count": 55,
      "metadata": {}
    },
    {
      "cell_type": "code",
      "source": [
        "# -------------------------------\n",
        "# Aggregate for ML\n",
        "# -------------------------------\n",
        "df_ml_ready = df_curated.groupBy(\"drug_name\", \"reaction\") \\\n",
        "    .agg(\n",
        "        _count(\"*\").alias(\"ae_count\"),\n",
        "        _sum(\"serious\").alias(\"serious_count\")\n",
        "    ) \\\n",
        "    .withColumn(\"serious_ratio\", col(\"serious_count\") / col(\"ae_count\"))\n",
        "\n",
        "# Save ML-ready dataset\n",
        "timestamp = datetime.utcnow().strftime(\"%Y-%m-%d-%H-%M-%S\")\n",
        "ml_ready_path = f\"{gold_ml_ready_base}{timestamp}/\"\n",
        "df_ml_ready.write.mode(\"overwrite\").parquet(ml_ready_path)\n",
        "print(f\"✅ ML-ready dataset saved to {ml_ready_path}\")\n"
      ],
      "outputs": [
        {
          "output_type": "display_data",
          "data": {
            "application/vnd.livy.statement-meta+json": {
              "spark_pool": "openfda",
              "statement_id": 32,
              "statement_ids": [
                32
              ],
              "state": "finished",
              "livy_statement_state": "available",
              "spark_jobs": null,
              "session_id": "3",
              "normalized_state": "finished",
              "queued_time": "2025-08-28T12:12:31.7454928Z",
              "session_start_time": null,
              "execution_start_time": "2025-08-28T12:12:31.7472029Z",
              "execution_finish_time": "2025-08-28T12:12:32.9878776Z",
              "parent_msg_id": "317e811b-8af1-4b27-ae04-72aed1b59679"
            },
            "text/plain": "StatementMeta(openfda, 3, 32, Finished, Available, Finished)"
          },
          "metadata": {}
        },
        {
          "output_type": "stream",
          "name": "stdout",
          "text": [
            "✅ ML-ready dataset saved to abfss://rwedatalakestorage@datalakerwe.dfs.core.windows.net/gold/ml_ready/2025-08-28-12-12-31/\n"
          ]
        }
      ],
      "execution_count": 56,
      "metadata": {}
    },
    {
      "cell_type": "code",
      "source": [
        "# -------------------------------\n",
        "# Feature encoding\n",
        "# -------------------------------\n",
        "# Binarize label\n",
        "df_ml_ready = df_ml_ready.withColumn(\"label\", when(col(\"serious_count\") > 0, 1).otherwise(0))\n",
        "\n",
        "# StringIndexers\n",
        "drug_indexer = StringIndexer(inputCol=\"drug_name\", outputCol=\"drug_idx\")\n",
        "reaction_indexer = StringIndexer(inputCol=\"reaction\", outputCol=\"reaction_idx\")\n",
        "df_indexed = drug_indexer.fit(df_ml_ready).transform(df_ml_ready)\n",
        "df_indexed = reaction_indexer.fit(df_indexed).transform(df_indexed)\n",
        "\n",
        "# One-hot encoding\n",
        "drug_encoder = OneHotEncoder(inputCol=\"drug_idx\", outputCol=\"drug_vec\")\n",
        "reaction_encoder = OneHotEncoder(inputCol=\"reaction_idx\", outputCol=\"reaction_vec\")\n",
        "df_encoded = drug_encoder.fit(df_indexed).transform(df_indexed)\n",
        "df_encoded = reaction_encoder.fit(df_encoded).transform(df_encoded)\n",
        "\n",
        "# Assemble features\n",
        "assembler = VectorAssembler(\n",
        "    inputCols=[\"drug_vec\", \"reaction_vec\", \"ae_count\"], \n",
        "    outputCol=\"features\"\n",
        ")\n",
        "df_final = assembler.transform(df_encoded).select(\"features\", \"label\")\n",
        "df_final.show(5)"
      ],
      "outputs": [
        {
          "output_type": "display_data",
          "data": {
            "application/vnd.livy.statement-meta+json": {
              "spark_pool": "openfda",
              "statement_id": 33,
              "statement_ids": [
                33
              ],
              "state": "finished",
              "livy_statement_state": "available",
              "spark_jobs": null,
              "session_id": "3",
              "normalized_state": "finished",
              "queued_time": "2025-08-28T12:12:53.2465172Z",
              "session_start_time": null,
              "execution_start_time": "2025-08-28T12:12:53.2482472Z",
              "execution_finish_time": "2025-08-28T12:13:00.2894433Z",
              "parent_msg_id": "98febe48-8138-40ba-827e-472dc427b19e"
            },
            "text/plain": "StatementMeta(openfda, 3, 33, Finished, Available, Finished)"
          },
          "metadata": {}
        },
        {
          "output_type": "stream",
          "name": "stdout",
          "text": [
            "+--------------------+-----+\n|            features|label|\n+--------------------+-----+\n|(75,[4,66,74],[1....|    1|\n|(75,[15,54,74],[1...|    1|\n|(75,[6,50,74],[1....|    1|\n|(75,[15,50,74],[1...|    1|\n|(75,[9,51,74],[1....|    1|\n+--------------------+-----+\nonly showing top 5 rows\n\n"
          ]
        }
      ],
      "execution_count": 57,
      "metadata": {}
    },
    {
      "cell_type": "code",
      "source": [
        "# -------------------------------\n",
        "# Train/Test split\n",
        "# -------------------------------\n",
        "train_df, test_df = df_final.randomSplit([0.8, 0.2], seed=42)\n"
      ],
      "outputs": [
        {
          "output_type": "display_data",
          "data": {
            "application/vnd.livy.statement-meta+json": {
              "spark_pool": "openfda",
              "statement_id": 34,
              "statement_ids": [
                34
              ],
              "state": "finished",
              "livy_statement_state": "available",
              "spark_jobs": null,
              "session_id": "3",
              "normalized_state": "finished",
              "queued_time": "2025-08-28T12:13:12.2950505Z",
              "session_start_time": null,
              "execution_start_time": "2025-08-28T12:13:12.2967201Z",
              "execution_finish_time": "2025-08-28T12:13:12.5679946Z",
              "parent_msg_id": "99c9fcaa-fde1-4952-84f8-dc4de28fd942"
            },
            "text/plain": "StatementMeta(openfda, 3, 34, Finished, Available, Finished)"
          },
          "metadata": {}
        }
      ],
      "execution_count": 58,
      "metadata": {}
    },
    {
      "cell_type": "code",
      "source": [
        "# -------------------------------\n",
        "# Train RandomForest\n",
        "# -------------------------------\n",
        "rf = RandomForestClassifier(featuresCol=\"features\", labelCol=\"label\", numTrees=100)\n",
        "pipeline = Pipeline(stages=[rf])\n",
        "model = pipeline.fit(train_df)"
      ],
      "outputs": [
        {
          "output_type": "display_data",
          "data": {
            "application/vnd.livy.statement-meta+json": {
              "spark_pool": "openfda",
              "statement_id": 35,
              "statement_ids": [
                35
              ],
              "state": "finished",
              "livy_statement_state": "available",
              "spark_jobs": null,
              "session_id": "3",
              "normalized_state": "finished",
              "queued_time": "2025-08-28T12:13:22.4886244Z",
              "session_start_time": null,
              "execution_start_time": "2025-08-28T12:13:22.4903417Z",
              "execution_finish_time": "2025-08-28T12:13:27.949374Z",
              "parent_msg_id": "9e475a11-0e7c-4016-add6-718753cc4078"
            },
            "text/plain": "StatementMeta(openfda, 3, 35, Finished, Available, Finished)"
          },
          "metadata": {}
        }
      ],
      "execution_count": 59,
      "metadata": {}
    },
    {
      "cell_type": "code",
      "source": [
        "# -------------------------------\n",
        "# Evaluate model\n",
        "# -------------------------------\n",
        "preds = model.transform(test_df)\n",
        "evaluator = BinaryClassificationEvaluator(labelCol=\"label\", rawPredictionCol=\"rawPrediction\")\n",
        "auc = evaluator.evaluate(preds)\n",
        "print(f\"✅ Test AUC: {auc:.4f}\")"
      ],
      "outputs": [
        {
          "output_type": "display_data",
          "data": {
            "application/vnd.livy.statement-meta+json": {
              "spark_pool": "openfda",
              "statement_id": 36,
              "statement_ids": [
                36
              ],
              "state": "finished",
              "livy_statement_state": "available",
              "spark_jobs": null,
              "session_id": "3",
              "normalized_state": "finished",
              "queued_time": "2025-08-28T12:13:42.4636829Z",
              "session_start_time": null,
              "execution_start_time": "2025-08-28T12:13:42.465251Z",
              "execution_finish_time": "2025-08-28T12:13:43.6527566Z",
              "parent_msg_id": "5a52e8fe-fa1a-4de9-85ef-0e26e75bb242"
            },
            "text/plain": "StatementMeta(openfda, 3, 36, Finished, Available, Finished)"
          },
          "metadata": {}
        },
        {
          "output_type": "stream",
          "name": "stdout",
          "text": [
            "✅ Test AUC: 1.0000\n"
          ]
        }
      ],
      "execution_count": 60,
      "metadata": {}
    },
    {
      "cell_type": "code",
      "source": [
        "# -------------------------------\n",
        "# Save trained model to Gold\n",
        "# -------------------------------\n",
        "model_path = f\"{gold_models_base}rf_ae_seriousness_{timestamp}/\"\n",
        "model.write().overwrite().save(model_path)\n",
        "print(f\"✅ Trained RandomForest model saved to {model_path}\")"
      ],
      "outputs": [
        {
          "output_type": "display_data",
          "data": {
            "application/vnd.livy.statement-meta+json": {
              "spark_pool": "openfda",
              "statement_id": 37,
              "statement_ids": [
                37
              ],
              "state": "finished",
              "livy_statement_state": "available",
              "spark_jobs": null,
              "session_id": "3",
              "normalized_state": "finished",
              "queued_time": "2025-08-28T12:13:54.3960202Z",
              "session_start_time": null,
              "execution_start_time": "2025-08-28T12:13:54.3977058Z",
              "execution_finish_time": "2025-08-28T12:13:58.5423883Z",
              "parent_msg_id": "50f762a5-5d2a-4de8-815e-934c5a0a1414"
            },
            "text/plain": "StatementMeta(openfda, 3, 37, Finished, Available, Finished)"
          },
          "metadata": {}
        },
        {
          "output_type": "stream",
          "name": "stdout",
          "text": [
            "✅ Trained RandomForest model saved to abfss://rwedatalakestorage@datalakerwe.dfs.core.windows.net/gold/models/rf_ae_seriousness_2025-08-28-12-12-31/\n"
          ]
        }
      ],
      "execution_count": 61,
      "metadata": {}
    },
    {
      "cell_type": "markdown",
      "source": [
        "# Release Spark pool"
      ],
      "metadata": {
        "nteract": {
          "transient": {
            "deleting": false
          }
        }
      }
    },
    {
      "cell_type": "code",
      "source": [
        "mssparkutils.session.stop()"
      ],
      "outputs": [],
      "execution_count": null,
      "metadata": {}
    }
  ],
  "metadata": {
    "language_info": {
      "name": "python"
    },
    "kernelspec": {
      "name": "synapse_pyspark",
      "language": "Python",
      "display_name": "Synapse PySpark"
    },
    "kernel_info": {
      "name": "synapse_pyspark"
    },
    "save_output": true,
    "synapse_widget": {
      "version": "0.1",
      "state": {}
    }
  },
  "nbformat": 4,
  "nbformat_minor": 2
}