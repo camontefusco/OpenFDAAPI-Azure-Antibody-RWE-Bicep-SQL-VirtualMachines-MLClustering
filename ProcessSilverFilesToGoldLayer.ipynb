{
  "cells": [
    {
      "cell_type": "markdown",
      "source": [
        "ProcessSilverFilesToGoldLayer to move data from gold/processing to gold in a timestamped, partitioned way."
      ],
      "metadata": {
        "nteract": {
          "transient": {
            "deleting": false
          }
        }
      }
    },
    {
      "cell_type": "code",
      "source": [
        "# Imports\n",
        "from pyspark.sql import SparkSession\n",
        "from pyspark.sql.types import StructType, StructField, StringType\n",
        "from datetime import datetime\n",
        "\n",
        "spark = SparkSession.builder.getOrCreate()\n",
        "\n",
        "# Paths\n",
        "gold_processing_base = \"abfss://rwedatalakestorage@datalakerwe.dfs.core.windows.net/gold/processing/\"\n",
        "gold_output_base     = \"abfss://rwedatalakestorage@datalakerwe.dfs.core.windows.net/gold/\"\n"
      ],
      "outputs": [
        {
          "output_type": "display_data",
          "data": {
            "application/vnd.livy.statement-meta+json": {
              "spark_pool": "openfda",
              "statement_id": 19,
              "statement_ids": [
                19
              ],
              "state": "finished",
              "livy_statement_state": "available",
              "spark_jobs": null,
              "session_id": "1",
              "normalized_state": "finished",
              "queued_time": "2025-08-28T11:21:35.1417898Z",
              "session_start_time": null,
              "execution_start_time": "2025-08-28T11:21:35.1438874Z",
              "execution_finish_time": "2025-08-28T11:21:35.433047Z",
              "parent_msg_id": "0c06db0f-b7c6-4360-be05-2c57a1a778e9"
            },
            "text/plain": "StatementMeta(openfda, 1, 19, Finished, Available, Finished)"
          },
          "metadata": {}
        }
      ],
      "execution_count": 18,
      "metadata": {}
    },
    {
      "cell_type": "code",
      "source": [
        "# Define schema for silver/gold data\n",
        "schema = StructType([\n",
        "    StructField(\"safetyreportid\", StringType(), True),\n",
        "    StructField(\"receivedate\", StringType(), True),\n",
        "    StructField(\"serious\", StringType(), True),\n",
        "    StructField(\"medicinalproduct\", StringType(), True),\n",
        "    StructField(\"drugcharacterization\", StringType(), True),\n",
        "    StructField(\"reactionmeddrapt\", StringType(), True),\n",
        "    StructField(\"reactionoutcome\", StringType(), True)\n",
        "])"
      ],
      "outputs": [
        {
          "output_type": "display_data",
          "data": {
            "application/vnd.livy.statement-meta+json": {
              "spark_pool": "openfda",
              "statement_id": 20,
              "statement_ids": [
                20
              ],
              "state": "finished",
              "livy_statement_state": "available",
              "spark_jobs": null,
              "session_id": "1",
              "normalized_state": "finished",
              "queued_time": "2025-08-28T11:21:36.745733Z",
              "session_start_time": null,
              "execution_start_time": "2025-08-28T11:21:36.7476176Z",
              "execution_finish_time": "2025-08-28T11:21:37.00834Z",
              "parent_msg_id": "fc577405-deaf-4a47-a067-c8a438388849"
            },
            "text/plain": "StatementMeta(openfda, 1, 20, Finished, Available, Finished)"
          },
          "metadata": {}
        }
      ],
      "execution_count": 19,
      "metadata": {}
    },
    {
      "cell_type": "code",
      "source": [
        "# Read all parquet files recursively in the processing folder\n",
        "df = spark.read.schema(schema).option(\"recursiveFileLookup\", \"true\").parquet(gold_processing_base)\n",
        "print(f\"✅ Read {df.count()} rows from gold/processing\")\n"
      ],
      "outputs": [
        {
          "output_type": "display_data",
          "data": {
            "application/vnd.livy.statement-meta+json": {
              "spark_pool": "openfda",
              "statement_id": 21,
              "statement_ids": [
                21
              ],
              "state": "finished",
              "livy_statement_state": "available",
              "spark_jobs": null,
              "session_id": "1",
              "normalized_state": "finished",
              "queued_time": "2025-08-28T11:21:38.2899107Z",
              "session_start_time": null,
              "execution_start_time": "2025-08-28T11:21:38.2918838Z",
              "execution_finish_time": "2025-08-28T11:21:38.9260753Z",
              "parent_msg_id": "e8facd62-5c40-4eed-a648-cd4c2cf9c3c4"
            },
            "text/plain": "StatementMeta(openfda, 1, 21, Finished, Available, Finished)"
          },
          "metadata": {}
        },
        {
          "output_type": "stream",
          "name": "stdout",
          "text": [
            "✅ Read 224 rows from gold/processing\n"
          ]
        }
      ],
      "execution_count": 20,
      "metadata": {}
    },
    {
      "cell_type": "code",
      "source": [
        "# Generate timestamped output folder\n",
        "timestamp = datetime.utcnow().strftime(\"%Y-%m-%d-%H-%M-%S\")\n",
        "gold_output_path = f\"{gold_output_base}{timestamp}/\""
      ],
      "outputs": [
        {
          "output_type": "display_data",
          "data": {
            "application/vnd.livy.statement-meta+json": {
              "spark_pool": "openfda",
              "statement_id": 22,
              "statement_ids": [
                22
              ],
              "state": "finished",
              "livy_statement_state": "available",
              "spark_jobs": null,
              "session_id": "1",
              "normalized_state": "finished",
              "queued_time": "2025-08-28T11:21:40.4778844Z",
              "session_start_time": null,
              "execution_start_time": "2025-08-28T11:21:40.4797717Z",
              "execution_finish_time": "2025-08-28T11:21:40.7357964Z",
              "parent_msg_id": "c8b10fbf-9421-4463-8607-af5a4641400d"
            },
            "text/plain": "StatementMeta(openfda, 1, 22, Finished, Available, Finished)"
          },
          "metadata": {}
        }
      ],
      "execution_count": 21,
      "metadata": {}
    },
    {
      "cell_type": "code",
      "source": [
        "# Write to Gold layer in parquet\n",
        "df.write.mode(\"overwrite\").parquet(gold_output_path)\n",
        "print(f\"✅ Wrote {df.count()} rows to {gold_output_path}\")"
      ],
      "outputs": [
        {
          "output_type": "display_data",
          "data": {
            "application/vnd.livy.statement-meta+json": {
              "spark_pool": "openfda",
              "statement_id": 23,
              "statement_ids": [
                23
              ],
              "state": "finished",
              "livy_statement_state": "available",
              "spark_jobs": null,
              "session_id": "1",
              "normalized_state": "finished",
              "queued_time": "2025-08-28T11:21:42.2454609Z",
              "session_start_time": null,
              "execution_start_time": "2025-08-28T11:21:42.2474226Z",
              "execution_finish_time": "2025-08-28T11:21:43.4922176Z",
              "parent_msg_id": "947784a7-d69c-4bd2-aaf0-4909a2fcafc6"
            },
            "text/plain": "StatementMeta(openfda, 1, 23, Finished, Available, Finished)"
          },
          "metadata": {}
        },
        {
          "output_type": "stream",
          "name": "stdout",
          "text": [
            "✅ Wrote 224 rows to abfss://rwedatalakestorage@datalakerwe.dfs.core.windows.net/gold/2025-08-28-11-21-40/\n"
          ]
        }
      ],
      "execution_count": 22,
      "metadata": {}
    },
    {
      "cell_type": "markdown",
      "source": [
        "# Release Spark pool"
      ],
      "metadata": {
        "nteract": {
          "transient": {
            "deleting": false
          }
        }
      }
    },
    {
      "cell_type": "code",
      "source": [
        "mssparkutils.session.stop()"
      ],
      "outputs": [],
      "execution_count": null,
      "metadata": {}
    }
  ],
  "metadata": {
    "language_info": {
      "name": "python"
    },
    "kernelspec": {
      "name": "synapse_pyspark",
      "language": "Python",
      "display_name": "Synapse PySpark"
    },
    "kernel_info": {
      "name": "synapse_pyspark"
    },
    "save_output": true,
    "synapse_widget": {
      "version": "0.1",
      "state": {}
    }
  },
  "nbformat": 4,
  "nbformat_minor": 2
}