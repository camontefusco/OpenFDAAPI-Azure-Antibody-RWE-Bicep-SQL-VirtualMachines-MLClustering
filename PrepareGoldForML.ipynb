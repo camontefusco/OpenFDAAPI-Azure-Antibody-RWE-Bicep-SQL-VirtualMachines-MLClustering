{
  "cells": [
    {
      "cell_type": "code",
      "source": [
        "from pyspark.sql import SparkSession\n",
        "from pyspark.sql.functions import col, count, when\n",
        "from pyspark.sql.types import IntegerType\n",
        "\n",
        "spark = SparkSession.builder.getOrCreate()\n",
        "\n",
        "# Paths\n",
        "gold_curated_rwe = \"abfss://rwedatalakestorage@datalakerwe.dfs.core.windows.net/gold/curated/rwe/\"\n",
        "gold_ml_output   = \"abfss://rwedatalakestorage@datalakerwe.dfs.core.windows.net/gold/ml_ready/\"\n"
      ],
      "outputs": [
        {
          "output_type": "display_data",
          "data": {
            "application/vnd.livy.statement-meta+json": {
              "spark_pool": "openfda",
              "statement_id": 7,
              "statement_ids": [
                7
              ],
              "state": "finished",
              "livy_statement_state": "available",
              "spark_jobs": null,
              "session_id": "3",
              "normalized_state": "finished",
              "queued_time": "2025-08-28T11:48:47.9945451Z",
              "session_start_time": null,
              "execution_start_time": "2025-08-28T11:48:47.9962746Z",
              "execution_finish_time": "2025-08-28T11:48:48.2697716Z",
              "parent_msg_id": "bf8d0440-89c6-437a-835f-1de6f37e26a8"
            },
            "text/plain": "StatementMeta(openfda, 3, 7, Finished, Available, Finished)"
          },
          "metadata": {}
        }
      ],
      "execution_count": 31,
      "metadata": {}
    },
    {
      "cell_type": "code",
      "source": [
        "# Read all RWE curated Parquet files\n",
        "df = spark.read.option(\"recursiveFileLookup\", \"true\").parquet(gold_curated_rwe + \"*\")\n",
        "print(f\"✅ Read {df.count()} rows from curated RWE Gold\")\n"
      ],
      "outputs": [
        {
          "output_type": "display_data",
          "data": {
            "application/vnd.livy.statement-meta+json": {
              "spark_pool": "openfda",
              "statement_id": 8,
              "statement_ids": [
                8
              ],
              "state": "finished",
              "livy_statement_state": "available",
              "spark_jobs": null,
              "session_id": "3",
              "normalized_state": "finished",
              "queued_time": "2025-08-28T11:49:00.5126852Z",
              "session_start_time": null,
              "execution_start_time": "2025-08-28T11:49:00.5144962Z",
              "execution_finish_time": "2025-08-28T11:49:07.5512834Z",
              "parent_msg_id": "e7ab2fa1-a357-412b-ad3b-69b6c1b92ebb"
            },
            "text/plain": "StatementMeta(openfda, 3, 8, Finished, Available, Finished)"
          },
          "metadata": {}
        },
        {
          "output_type": "stream",
          "name": "stdout",
          "text": [
            "✅ Read 224 rows from curated RWE Gold\n"
          ]
        }
      ],
      "execution_count": 32,
      "metadata": {}
    },
    {
      "cell_type": "code",
      "source": [
        "# Convert 'serious' to binary label\n",
        "df = df.withColumn(\"serious_label\", when(col(\"serious\")==\"Yes\", 1).otherwise(0))\n"
      ],
      "outputs": [
        {
          "output_type": "display_data",
          "data": {
            "application/vnd.livy.statement-meta+json": {
              "spark_pool": "openfda",
              "statement_id": 9,
              "statement_ids": [
                9
              ],
              "state": "finished",
              "livy_statement_state": "available",
              "spark_jobs": null,
              "session_id": "3",
              "normalized_state": "finished",
              "queued_time": "2025-08-28T11:49:12.8976998Z",
              "session_start_time": null,
              "execution_start_time": "2025-08-28T11:49:12.8994687Z",
              "execution_finish_time": "2025-08-28T11:49:13.1509515Z",
              "parent_msg_id": "cd30e9c0-2a2f-4143-938a-094ec8d53fb2"
            },
            "text/plain": "StatementMeta(openfda, 3, 9, Finished, Available, Finished)"
          },
          "metadata": {}
        }
      ],
      "execution_count": 33,
      "metadata": {}
    },
    {
      "cell_type": "code",
      "source": [
        "from pyspark.sql.functions import count, sum as spark_sum, col\n",
        "from pyspark.sql.types import IntegerType\n",
        "\n",
        "# Aggregate per drug & reaction\n",
        "agg_df = df.groupBy(\"drug_name\", \"reaction\") \\\n",
        "           .agg(\n",
        "               count(\"*\").alias(\"ae_count\"),\n",
        "               spark_sum(col(\"serious_label\").cast(IntegerType())).alias(\"serious_count\")\n",
        "           )\n",
        "\n",
        "# Optional: compute serious ratio\n",
        "agg_df = agg_df.withColumn(\"serious_ratio\", col(\"serious_count\") / col(\"ae_count\"))\n",
        "\n",
        "agg_df.show(10)\n"
      ],
      "outputs": [
        {
          "output_type": "display_data",
          "data": {
            "application/vnd.livy.statement-meta+json": {
              "spark_pool": "openfda",
              "statement_id": 11,
              "statement_ids": [
                11
              ],
              "state": "finished",
              "livy_statement_state": "available",
              "spark_jobs": null,
              "session_id": "3",
              "normalized_state": "finished",
              "queued_time": "2025-08-28T11:50:08.3395376Z",
              "session_start_time": null,
              "execution_start_time": "2025-08-28T11:50:08.3412939Z",
              "execution_finish_time": "2025-08-28T11:50:12.6186406Z",
              "parent_msg_id": "e5c5540e-bda4-4737-b3f3-3844a9ae4ae7"
            },
            "text/plain": "StatementMeta(openfda, 3, 11, Finished, Available, Finished)"
          },
          "metadata": {}
        },
        {
          "output_type": "stream",
          "name": "stdout",
          "text": [
            "+--------------------+--------------------+--------+-------------+-------------+\n|           drug_name|            reaction|ae_count|serious_count|serious_ratio|\n+--------------------+--------------------+--------+-------------+-------------+\n|IMC-3G3 (RH ANTI-...|             Anaemia|       1|            0|          0.0|\n|        SIMVASTATIN.|Urinary tract inf...|       1|            0|          0.0|\n|               JODID|           Gastritis|       1|            0|          0.0|\n|        SIMVASTATIN.|           Gastritis|       1|            0|          0.0|\n|            MUCOFALK|General physical ...|       1|            0|          0.0|\n|           METOHEXAL|Helicobacter test...|       1|            0|          0.0|\n|IMC-3G3 (RH ANTI-...|    Thrombocytopenia|       1|            0|          0.0|\n|         FLUDARABINE|Transplant rejection|       1|            0|          0.0|\n|RO 5479599 (ANTI-...|       Herpes zoster|       2|            0|          0.0|\n|          PERTUZUMAB|     Ileus paralytic|       2|            0|          0.0|\n+--------------------+--------------------+--------+-------------+-------------+\nonly showing top 10 rows\n\n"
          ]
        }
      ],
      "execution_count": 35,
      "metadata": {}
    },
    {
      "cell_type": "code",
      "source": [
        "# Write ML-ready dataset\n",
        "timestamp = spark.sql(\"SELECT current_timestamp()\").collect()[0][0].strftime(\"%Y-%m-%d-%H-%M-%S\")\n",
        "ml_output_path = f\"{gold_ml_output}{timestamp}/\"\n",
        "agg_df.write.mode(\"overwrite\").parquet(ml_output_path)\n",
        "print(f\"✅ Wrote ML-ready dataset to {ml_output_path}\")\n"
      ],
      "outputs": [
        {
          "output_type": "display_data",
          "data": {
            "application/vnd.livy.statement-meta+json": {
              "spark_pool": "openfda",
              "statement_id": 12,
              "statement_ids": [
                12
              ],
              "state": "finished",
              "livy_statement_state": "available",
              "spark_jobs": null,
              "session_id": "3",
              "normalized_state": "finished",
              "queued_time": "2025-08-28T11:50:39.2330719Z",
              "session_start_time": null,
              "execution_start_time": "2025-08-28T11:50:39.2349102Z",
              "execution_finish_time": "2025-08-28T11:50:41.2154279Z",
              "parent_msg_id": "ea1a1f00-14a0-4ee2-ae67-424e9637174c"
            },
            "text/plain": "StatementMeta(openfda, 3, 12, Finished, Available, Finished)"
          },
          "metadata": {}
        },
        {
          "output_type": "stream",
          "name": "stdout",
          "text": [
            "✅ Wrote ML-ready dataset to abfss://rwedatalakestorage@datalakerwe.dfs.core.windows.net/gold/ml_ready/2025-08-28-11-50-39/\n"
          ]
        }
      ],
      "execution_count": 36,
      "metadata": {}
    },
    {
      "cell_type": "markdown",
      "source": [
        "# Release Spark pool"
      ],
      "metadata": {
        "nteract": {
          "transient": {
            "deleting": false
          }
        }
      }
    },
    {
      "cell_type": "code",
      "source": [
        "mssparkutils.session.stop()"
      ],
      "outputs": [],
      "execution_count": null,
      "metadata": {}
    }
  ],
  "metadata": {
    "language_info": {
      "name": "python"
    },
    "kernelspec": {
      "name": "synapse_pyspark",
      "language": "Python",
      "display_name": "Synapse PySpark"
    },
    "kernel_info": {
      "name": "synapse_pyspark"
    },
    "save_output": true,
    "synapse_widget": {
      "version": "0.1",
      "state": {}
    }
  },
  "nbformat": 4,
  "nbformat_minor": 2
}